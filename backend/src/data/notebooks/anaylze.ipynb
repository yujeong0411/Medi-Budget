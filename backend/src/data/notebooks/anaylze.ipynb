{
 "cells": [
  {
   "cell_type": "code",
   "execution_count": 2,
   "metadata": {},
   "outputs": [],
   "source": [
    "import pandas as pd\n",
    "import numpy as np\n",
    "import matplotlib.pyplot as plt\n",
    "import seaborn as sns\n",
    "import os\n",
    "import sys"
   ]
  },
  {
   "cell_type": "code",
   "execution_count": 3,
   "metadata": {},
   "outputs": [],
   "source": [
    "sys.path.append('../')\n",
    "from db_config import get_db_engine"
   ]
  },
  {
   "cell_type": "code",
   "execution_count": 4,
   "metadata": {},
   "outputs": [],
   "source": [
    "# matplotilb 설정\n",
    "plt.rcParams['font.family'] = 'Malgun Gothic'  # 한글 폰트 설정\n",
    "plt.rcParams['axes.unicode_minus'] = False # 한글 폰트 사용 시 마이너스 깨짐 방지\n",
    "plt.style.use('ggplot')"
   ]
  },
  {
   "cell_type": "code",
   "execution_count": 5,
   "metadata": {},
   "outputs": [],
   "source": [
    "# 결과 저장 폴더 생성\n",
    "RESULT_DIR = '../analsys_results'\n",
    "os.makedirs(RESULT_DIR, exist_ok=True)"
   ]
  },
  {
   "cell_type": "code",
   "execution_count": 6,
   "metadata": {},
   "outputs": [],
   "source": [
    "# 데이터 베이스에서 데이터 불러오기\n",
    "engine = get_db_engine()"
   ]
  },
  {
   "cell_type": "code",
   "execution_count": 7,
   "metadata": {},
   "outputs": [],
   "source": [
    "# 연령 구간별 다빈도 질환 의료비 데이터 불러오기\n",
    "query = \"\"\"\n",
    "    SELECT * FROM age_based_costs\n",
    "\"\"\"\n",
    "age_based_costs = pd.read_sql_query(query, engine)"
   ]
  },
  {
   "cell_type": "code",
   "execution_count": null,
   "metadata": {},
   "outputs": [
    {
     "name": "stdout",
     "output_type": "stream",
     "text": [
      "<class 'pandas.core.frame.DataFrame'>\n",
      "RangeIndex: 3600 entries, 0 to 3599\n",
      "Data columns (total 12 columns):\n",
      " #   Column                       Non-Null Count  Dtype  \n",
      "---  ------                       --------------  -----  \n",
      " 0   age_cost_id                  3600 non-null   int64  \n",
      " 1   disease_id                   3600 non-null   int64  \n",
      " 2   age_group                    3600 non-null   object \n",
      " 3   medical_care_cost_total      3600 non-null   float64\n",
      " 4   insurance_payment            3600 non-null   float64\n",
      " 5   patient_payment              3600 non-null   float64\n",
      " 6   patient_payment_per_visit    3600 non-null   float64\n",
      " 7   patient_payment_per_patient  3600 non-null   float64\n",
      " 8   patient_count                3600 non-null   int64  \n",
      " 9   visit_count                  3600 non-null   int64  \n",
      " 10  rank                         3600 non-null   int64  \n",
      " 11  year                         3600 non-null   int64  \n",
      "dtypes: float64(5), int64(6), object(1)\n",
      "memory usage: 337.6+ KB\n"
     ]
    }
   ],
   "source": [
    "# 데이터 기본 정보 확인\n",
    "age_based_costs.info()"
   ]
  },
  {
   "cell_type": "code",
   "execution_count": 10,
   "metadata": {},
   "outputs": [
    {
     "data": {
      "text/html": [
       "<div>\n",
       "<style scoped>\n",
       "    .dataframe tbody tr th:only-of-type {\n",
       "        vertical-align: middle;\n",
       "    }\n",
       "\n",
       "    .dataframe tbody tr th {\n",
       "        vertical-align: top;\n",
       "    }\n",
       "\n",
       "    .dataframe thead th {\n",
       "        text-align: right;\n",
       "    }\n",
       "</style>\n",
       "<table border=\"1\" class=\"dataframe\">\n",
       "  <thead>\n",
       "    <tr style=\"text-align: right;\">\n",
       "      <th></th>\n",
       "      <th>age_cost_id</th>\n",
       "      <th>disease_id</th>\n",
       "      <th>age_group</th>\n",
       "      <th>medical_care_cost_total</th>\n",
       "      <th>insurance_payment</th>\n",
       "      <th>patient_payment</th>\n",
       "      <th>patient_payment_per_visit</th>\n",
       "      <th>patient_payment_per_patient</th>\n",
       "      <th>patient_count</th>\n",
       "      <th>visit_count</th>\n",
       "      <th>rank</th>\n",
       "      <th>year</th>\n",
       "    </tr>\n",
       "  </thead>\n",
       "  <tbody>\n",
       "    <tr>\n",
       "      <th>0</th>\n",
       "      <td>1</td>\n",
       "      <td>78</td>\n",
       "      <td>0~4세</td>\n",
       "      <td>136381972.0</td>\n",
       "      <td>112746558.0</td>\n",
       "      <td>23635414.0</td>\n",
       "      <td>19.13</td>\n",
       "      <td>1235569.0</td>\n",
       "      <td>3</td>\n",
       "      <td>7529692</td>\n",
       "      <td>1</td>\n",
       "      <td>2021</td>\n",
       "    </tr>\n",
       "    <tr>\n",
       "      <th>1</th>\n",
       "      <td>2</td>\n",
       "      <td>81</td>\n",
       "      <td>0~4세</td>\n",
       "      <td>43402795.0</td>\n",
       "      <td>35530371.0</td>\n",
       "      <td>7872424.0</td>\n",
       "      <td>10.77</td>\n",
       "      <td>731077.0</td>\n",
       "      <td>3</td>\n",
       "      <td>2486451</td>\n",
       "      <td>2</td>\n",
       "      <td>2021</td>\n",
       "    </tr>\n",
       "    <tr>\n",
       "      <th>2</th>\n",
       "      <td>3</td>\n",
       "      <td>67</td>\n",
       "      <td>0~4세</td>\n",
       "      <td>28376560.0</td>\n",
       "      <td>23364364.0</td>\n",
       "      <td>5012196.0</td>\n",
       "      <td>10.82</td>\n",
       "      <td>463060.0</td>\n",
       "      <td>3</td>\n",
       "      <td>1620990</td>\n",
       "      <td>3</td>\n",
       "      <td>2021</td>\n",
       "    </tr>\n",
       "    <tr>\n",
       "      <th>3</th>\n",
       "      <td>4</td>\n",
       "      <td>3</td>\n",
       "      <td>0~4세</td>\n",
       "      <td>21434406.0</td>\n",
       "      <td>17155397.0</td>\n",
       "      <td>4279009.0</td>\n",
       "      <td>9.37</td>\n",
       "      <td>456585.0</td>\n",
       "      <td>5</td>\n",
       "      <td>897896</td>\n",
       "      <td>4</td>\n",
       "      <td>2021</td>\n",
       "    </tr>\n",
       "    <tr>\n",
       "      <th>4</th>\n",
       "      <td>5</td>\n",
       "      <td>66</td>\n",
       "      <td>0~4세</td>\n",
       "      <td>21260453.0</td>\n",
       "      <td>17758542.0</td>\n",
       "      <td>3501911.0</td>\n",
       "      <td>7.39</td>\n",
       "      <td>473951.0</td>\n",
       "      <td>3</td>\n",
       "      <td>1257120</td>\n",
       "      <td>5</td>\n",
       "      <td>2021</td>\n",
       "    </tr>\n",
       "  </tbody>\n",
       "</table>\n",
       "</div>"
      ],
      "text/plain": [
       "   age_cost_id  disease_id age_group  medical_care_cost_total  \\\n",
       "0            1          78      0~4세              136381972.0   \n",
       "1            2          81      0~4세               43402795.0   \n",
       "2            3          67      0~4세               28376560.0   \n",
       "3            4           3      0~4세               21434406.0   \n",
       "4            5          66      0~4세               21260453.0   \n",
       "\n",
       "   insurance_payment  patient_payment  patient_payment_per_visit  \\\n",
       "0        112746558.0       23635414.0                      19.13   \n",
       "1         35530371.0        7872424.0                      10.77   \n",
       "2         23364364.0        5012196.0                      10.82   \n",
       "3         17155397.0        4279009.0                       9.37   \n",
       "4         17758542.0        3501911.0                       7.39   \n",
       "\n",
       "   patient_payment_per_patient  patient_count  visit_count  rank  year  \n",
       "0                    1235569.0              3      7529692     1  2021  \n",
       "1                     731077.0              3      2486451     2  2021  \n",
       "2                     463060.0              3      1620990     3  2021  \n",
       "3                     456585.0              5       897896     4  2021  \n",
       "4                     473951.0              3      1257120     5  2021  "
      ]
     },
     "execution_count": 10,
     "metadata": {},
     "output_type": "execute_result"
    }
   ],
   "source": [
    "age_based_costs.head()"
   ]
  },
  {
   "cell_type": "code",
   "execution_count": 13,
   "metadata": {},
   "outputs": [
    {
     "name": "stdout",
     "output_type": "stream",
     "text": [
      "결측치 개수:\n",
      "age_cost_id                    0\n",
      "disease_id                     0\n",
      "age_group                      0\n",
      "medical_care_cost_total        0\n",
      "insurance_payment              0\n",
      "patient_payment                0\n",
      "patient_payment_per_visit      0\n",
      "patient_payment_per_patient    0\n",
      "patient_count                  0\n",
      "visit_count                    0\n",
      "rank                           0\n",
      "year                           0\n",
      "dtype: int64\n"
     ]
    }
   ],
   "source": [
    "# 결측치 확인\n",
    "missing_value = age_based_costs.isnull().sum()\n",
    "print('결측치 개수:')\n",
    "print(missing_value)"
   ]
  },
  {
   "cell_type": "code",
   "execution_count": 23,
   "metadata": {},
   "outputs": [
    {
     "name": "stdout",
     "output_type": "stream",
     "text": [
      "0       78\n",
      "100     78\n",
      "200     78\n",
      "300     78\n",
      "400     78\n",
      "500     78\n",
      "600     78\n",
      "700     78\n",
      "800     78\n",
      "900     97\n",
      "1000    97\n",
      "1100    97\n",
      "1200    97\n",
      "1300    97\n",
      "1400    97\n",
      "1500    97\n",
      "1600    97\n",
      "1701    97\n",
      "1800    97\n",
      "1901    97\n",
      "2000    97\n",
      "2100    78\n",
      "2200    78\n",
      "2301    78\n",
      "2401    97\n",
      "2500    97\n",
      "2600    97\n",
      "2700    97\n",
      "2800    97\n",
      "2900    97\n",
      "3000    97\n",
      "3101    97\n",
      "3201    97\n",
      "3301    58\n",
      "3401    58\n",
      "3501    58\n",
      "Name: disease_id, dtype: int64\n"
     ]
    }
   ],
   "source": [
    "# 다빈도 1순위 질환 필터링\n",
    "rank_1_disease = age_based_costs[age_based_costs['rank'] == 1]\n",
    "print(rank_1_disease['disease_id'])"
   ]
  },
  {
   "cell_type": "code",
   "execution_count": 19,
   "metadata": {},
   "outputs": [
    {
     "data": {
      "image/png": "[encoded data removed]",
      "text/plain": [
       "<Figure size 800x400 with 1 Axes>"
      ]
     },
     "metadata": {},
     "output_type": "display_data"
    }
   ],
   "source": [
    "# 데이터 분포 확인\n",
    "plt.figure(figsize=(8, 4))\n",
    "sns.histplot(age_based_costs['patient_payment_per_visit'], kde=True)\n",
    "plt.title('방문당 의료비 분포')\n",
    "plt.xlabel('의료비')\n",
    "plt.ylabel('빈도')\n",
    "plt.axvline(age_based_costs['patient_payment_per_visit'].mean(), color='red', linestyle='--', label='평균')\n",
    "plt.axvline(age_based_costs['patient_payment_per_visit'].median(), color='green', linestyle='--', label='중앙값')\n",
    "plt.legend()\n",
    "plt.show()"
   ]
  }
 ],
 "metadata": {
  "kernelspec": {
   "display_name": "Python 3",
   "language": "python",
   "name": "python3"
  },
  "language_info": {
   "codemirror_mode": {
    "name": "ipython",
    "version": 3
   },
   "file_extension": ".py",
   "mimetype": "text/x-python",
   "name": "python",
   "nbconvert_exporter": "python",
   "pygments_lexer": "ipython3",
   "version": "3.9.13"
  }
 },
 "nbformat": 4,
 "nbformat_minor": 2
}
